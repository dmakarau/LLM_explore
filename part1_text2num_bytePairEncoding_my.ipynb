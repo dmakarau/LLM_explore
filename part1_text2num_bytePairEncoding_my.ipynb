{
  "nbformat": 4,
  "nbformat_minor": 0,
  "metadata": {
    "colab": {
      "provenance": [],
      "authorship_tag": "ABX9TyPyuWUsfbNYgH7yVB3Gw9YA",
      "include_colab_link": true
    },
    "kernelspec": {
      "name": "python3",
      "display_name": "Python 3"
    },
    "language_info": {
      "name": "python"
    }
  },
  "cells": [
    {
      "cell_type": "markdown",
      "metadata": {
        "id": "view-in-github",
        "colab_type": "text"
      },
      "source": [
        "<a href=\"https://colab.research.google.com/github/dmakarau/LLM_explore/blob/main/part1_text2num_bytePairEncoding_my.ipynb\" target=\"_parent\"><img src=\"https://colab.research.google.com/assets/colab-badge.svg\" alt=\"Open In Colab\"/></a>"
      ]
    },
    {
      "cell_type": "code",
      "execution_count": 35,
      "metadata": {
        "id": "l68eGItESHgY"
      },
      "outputs": [],
      "source": [
        "import numpy as np"
      ]
    },
    {
      "cell_type": "code",
      "source": [
        "# some text with lots of repetitions\n",
        "text = 'like liker love lovely hug hugs hugging hearts'\n",
        "\n",
        "chars = list(set(text))\n",
        "chars.sort()\n",
        "print(chars)\n",
        "\n",
        "for l in chars:\n",
        "  print(f'{l} appears {text.count(l)} times')"
      ],
      "metadata": {
        "colab": {
          "base_uri": "https://localhost:8080/"
        },
        "id": "YGAR0PjdSXDj",
        "outputId": "fcd5989d-4992-4213-f4fc-7a408b8c33f5"
      },
      "execution_count": 36,
      "outputs": [
        {
          "output_type": "stream",
          "name": "stdout",
          "text": [
            "[' ', 'a', 'e', 'g', 'h', 'i', 'k', 'l', 'n', 'o', 'r', 's', 't', 'u', 'v', 'y']\n",
            "  appears 7 times\n",
            "a appears 1 times\n",
            "e appears 5 times\n",
            "g appears 5 times\n",
            "h appears 4 times\n",
            "i appears 3 times\n",
            "k appears 2 times\n",
            "l appears 5 times\n",
            "n appears 1 times\n",
            "o appears 2 times\n",
            "r appears 2 times\n",
            "s appears 2 times\n",
            "t appears 1 times\n",
            "u appears 3 times\n",
            "v appears 2 times\n",
            "y appears 1 times\n"
          ]
        }
      ]
    },
    {
      "cell_type": "code",
      "source": [
        "# make a vocabulary\n",
        "vocab = { word: i for i, word in enumerate(chars)}\n",
        "vocab"
      ],
      "metadata": {
        "colab": {
          "base_uri": "https://localhost:8080/"
        },
        "id": "3li1Q0ywTcgD",
        "outputId": "095d2180-c237-43a3-8e13-7f78e8d0b0ac"
      },
      "execution_count": 37,
      "outputs": [
        {
          "output_type": "execute_result",
          "data": {
            "text/plain": [
              "{' ': 0,\n",
              " 'a': 1,\n",
              " 'e': 2,\n",
              " 'g': 3,\n",
              " 'h': 4,\n",
              " 'i': 5,\n",
              " 'k': 6,\n",
              " 'l': 7,\n",
              " 'n': 8,\n",
              " 'o': 9,\n",
              " 'r': 10,\n",
              " 's': 11,\n",
              " 't': 12,\n",
              " 'u': 13,\n",
              " 'v': 14,\n",
              " 'y': 15}"
            ]
          },
          "metadata": {},
          "execution_count": 37
        }
      ]
    },
    {
      "cell_type": "code",
      "source": [
        "# convert text to a list\n",
        "origtext = list(text)\n",
        "print(origtext)"
      ],
      "metadata": {
        "colab": {
          "base_uri": "https://localhost:8080/"
        },
        "id": "cmvZ1ZSfUOIH",
        "outputId": "0841195f-bc57-447b-a9a3-585741a90d1a"
      },
      "execution_count": 38,
      "outputs": [
        {
          "output_type": "stream",
          "name": "stdout",
          "text": [
            "['l', 'i', 'k', 'e', ' ', 'l', 'i', 'k', 'e', 'r', ' ', 'l', 'o', 'v', 'e', ' ', 'l', 'o', 'v', 'e', 'l', 'y', ' ', 'h', 'u', 'g', ' ', 'h', 'u', 'g', 's', ' ', 'h', 'u', 'g', 'g', 'i', 'n', 'g', ' ', 'h', 'e', 'a', 'r', 't', 's']\n"
          ]
        }
      ]
    },
    {
      "cell_type": "code",
      "source": [
        "token_pairs = dict()\n",
        "\n",
        "for i in range(len(origtext) - 1):\n",
        "\n",
        "  #create a pari\n",
        "  pair = origtext[i] + origtext[i + 1]\n",
        "\n",
        "  # increase pair frequencies\n",
        "  if pair in token_pairs:\n",
        "    token_pairs[pair] += 1\n",
        "  else:\n",
        "    token_pairs[pair] = 1\n",
        "token_pairs"
      ],
      "metadata": {
        "colab": {
          "base_uri": "https://localhost:8080/"
        },
        "id": "XYr9jIWtUiM5",
        "outputId": "fdf17b07-7549-4d23-bf3d-ffd3937ff761"
      },
      "execution_count": 39,
      "outputs": [
        {
          "output_type": "execute_result",
          "data": {
            "text/plain": [
              "{'li': 2,\n",
              " 'ik': 2,\n",
              " 'ke': 2,\n",
              " 'e ': 2,\n",
              " ' l': 3,\n",
              " 'er': 1,\n",
              " 'r ': 1,\n",
              " 'lo': 2,\n",
              " 'ov': 2,\n",
              " 've': 2,\n",
              " 'el': 1,\n",
              " 'ly': 1,\n",
              " 'y ': 1,\n",
              " ' h': 4,\n",
              " 'hu': 3,\n",
              " 'ug': 3,\n",
              " 'g ': 2,\n",
              " 'gs': 1,\n",
              " 's ': 1,\n",
              " 'gg': 1,\n",
              " 'gi': 1,\n",
              " 'in': 1,\n",
              " 'ng': 1,\n",
              " 'he': 1,\n",
              " 'ea': 1,\n",
              " 'ar': 1,\n",
              " 'rt': 1,\n",
              " 'ts': 1}"
            ]
          },
          "metadata": {},
          "execution_count": 39
        }
      ]
    },
    {
      "cell_type": "code",
      "source": [
        "# find most frequent pair\n",
        "most_frequent_pair_idx = np.argmax(list(token_pairs.values()))\n",
        "most_frequent_pair_char = list(token_pairs.keys())[most_frequent_pair_idx]"
      ],
      "metadata": {
        "id": "BUwIz5PbVpZS"
      },
      "execution_count": 40,
      "outputs": []
    },
    {
      "cell_type": "code",
      "source": [
        "# update the vocubulary\n",
        "vocab[most_frequent_pair_char] = len(vocab)\n",
        "print(vocab)\n"
      ],
      "metadata": {
        "colab": {
          "base_uri": "https://localhost:8080/"
        },
        "id": "vD88dGuzWScK",
        "outputId": "d6f18f5a-4589-41d0-d4b9-906f3d78ccfe"
      },
      "execution_count": 41,
      "outputs": [
        {
          "output_type": "stream",
          "name": "stdout",
          "text": [
            "{' ': 0, 'a': 1, 'e': 2, 'g': 3, 'h': 4, 'i': 5, 'k': 6, 'l': 7, 'n': 8, 'o': 9, 'r': 10, 's': 11, 't': 12, 'u': 13, 'v': 14, 'y': 15, ' h': 16}\n"
          ]
        }
      ]
    },
    {
      "cell_type": "code",
      "source": [
        "newtext = []\n",
        "\n",
        "i = 0\n",
        "while i < (len(origtext) - 1):\n",
        "  if (origtext[i] + origtext[i + 1]) == most_frequent_pair_char:\n",
        "    newtext.append(most_frequent_pair_char)\n",
        "    print(f'added \"{most_frequent_pair_char}\"')\n",
        "\n",
        "    # skip the next char\n",
        "    i += 2\n",
        "  else:\n",
        "    newtext.append(origtext[i])\n",
        "\n",
        "    # move to the next char\n",
        "    i += 1\n",
        "\n",
        "print('\\n')\n",
        "print(f'original text: {origtext}')\n",
        "print(f' updated text: {newtext}')\n",
        "print(f'Original text length: {len(origtext)}')\n",
        "print(f'Updated text length: {len(newtext)}')\n",
        "\n"
      ],
      "metadata": {
        "colab": {
          "base_uri": "https://localhost:8080/"
        },
        "id": "LX6EMp3_Ldvy",
        "outputId": "19c1ce1c-b9fa-45dc-a091-8633b933a6e6"
      },
      "execution_count": 42,
      "outputs": [
        {
          "output_type": "stream",
          "name": "stdout",
          "text": [
            "added \" h\"\n",
            "added \" h\"\n",
            "added \" h\"\n",
            "added \" h\"\n",
            "\n",
            "\n",
            "original text: ['l', 'i', 'k', 'e', ' ', 'l', 'i', 'k', 'e', 'r', ' ', 'l', 'o', 'v', 'e', ' ', 'l', 'o', 'v', 'e', 'l', 'y', ' ', 'h', 'u', 'g', ' ', 'h', 'u', 'g', 's', ' ', 'h', 'u', 'g', 'g', 'i', 'n', 'g', ' ', 'h', 'e', 'a', 'r', 't', 's']\n",
            " updated text: ['l', 'i', 'k', 'e', ' ', 'l', 'i', 'k', 'e', 'r', ' ', 'l', 'o', 'v', 'e', ' ', 'l', 'o', 'v', 'e', 'l', 'y', ' h', 'u', 'g', ' h', 'u', 'g', 's', ' h', 'u', 'g', 'g', 'i', 'n', 'g', ' h', 'e', 'a', 'r', 't']\n",
            "Original text length: 46\n",
            "Updated text length: 41\n"
          ]
        }
      ]
    },
    {
      "cell_type": "code",
      "source": [
        "token_pairs = dict()\n",
        "\n",
        "for i in range(len(newtext) - 1):\n",
        "\n",
        "  #create a pari\n",
        "  pair = newtext[i] + newtext[i + 1]\n",
        "\n",
        "  # increase pair frequencies\n",
        "  if pair in token_pairs:\n",
        "    token_pairs[pair] += 1\n",
        "  else:\n",
        "    token_pairs[pair] = 1\n",
        "token_pairs"
      ],
      "metadata": {
        "colab": {
          "base_uri": "https://localhost:8080/"
        },
        "id": "jr6ikRzrZqoN",
        "outputId": "619e532a-09b4-4a2a-de40-cd929b80ee7c"
      },
      "execution_count": 43,
      "outputs": [
        {
          "output_type": "execute_result",
          "data": {
            "text/plain": [
              "{'li': 2,\n",
              " 'ik': 2,\n",
              " 'ke': 2,\n",
              " 'e ': 2,\n",
              " ' l': 3,\n",
              " 'er': 1,\n",
              " 'r ': 1,\n",
              " 'lo': 2,\n",
              " 'ov': 2,\n",
              " 've': 2,\n",
              " 'el': 1,\n",
              " 'ly': 1,\n",
              " 'y h': 1,\n",
              " ' hu': 3,\n",
              " 'ug': 3,\n",
              " 'g h': 2,\n",
              " 'gs': 1,\n",
              " 's h': 1,\n",
              " 'gg': 1,\n",
              " 'gi': 1,\n",
              " 'in': 1,\n",
              " 'ng': 1,\n",
              " ' he': 1,\n",
              " 'ea': 1,\n",
              " 'ar': 1,\n",
              " 'rt': 1}"
            ]
          },
          "metadata": {},
          "execution_count": 43
        }
      ]
    },
    {
      "cell_type": "code",
      "source": [
        "newtext2 = []\n",
        "\n",
        "i = 0\n",
        "while i < (len(newtext) - 1):\n",
        "  if (newtext[i] + newtext[i + 1]) == most_frequent_pair_char:\n",
        "    newtext2.append(most_frequent_pair_char)\n",
        "    print(f'added \"{most_frequent_pair_char}\"')\n",
        "\n",
        "    # skip the next char\n",
        "    i += 2\n",
        "  else:\n",
        "    newtext2.append(origtext[i])\n",
        "\n",
        "    # move to the next char\n",
        "    i += 1\n",
        "\n",
        "print('\\n')\n",
        "print(f'original text: {newtext}')\n",
        "print(f' updated text: {newtext2}')\n",
        "print(f'Original text length: {len(newtext)}')\n",
        "print(f'Updated text length: {len(newtext2)}')\n"
      ],
      "metadata": {
        "colab": {
          "base_uri": "https://localhost:8080/"
        },
        "id": "tO7SDK3vai0B",
        "outputId": "e17c618c-d450-46a0-cb1a-4519b0c7b9d4"
      },
      "execution_count": 44,
      "outputs": [
        {
          "output_type": "stream",
          "name": "stdout",
          "text": [
            "\n",
            "\n",
            "original text: ['l', 'i', 'k', 'e', ' ', 'l', 'i', 'k', 'e', 'r', ' ', 'l', 'o', 'v', 'e', ' ', 'l', 'o', 'v', 'e', 'l', 'y', ' h', 'u', 'g', ' h', 'u', 'g', 's', ' h', 'u', 'g', 'g', 'i', 'n', 'g', ' h', 'e', 'a', 'r', 't']\n",
            " updated text: ['l', 'i', 'k', 'e', ' ', 'l', 'i', 'k', 'e', 'r', ' ', 'l', 'o', 'v', 'e', ' ', 'l', 'o', 'v', 'e', 'l', 'y', ' ', 'h', 'u', 'g', ' ', 'h', 'u', 'g', 's', ' ', 'h', 'u', 'g', 'g', 'i', 'n', 'g', ' ']\n",
            "Original text length: 41\n",
            "Updated text length: 40\n"
          ]
        }
      ]
    },
    {
      "cell_type": "code",
      "source": [
        "# >---------------------------------------------\n",
        "def get_pair_stats(text2pair):\n",
        "  token_pairs = dict()\n",
        "\n",
        "  #loop over the tokens\n",
        "  for i in range(len(text2pair) - 1):\n",
        "    # create a pari\n",
        "    pair = text2pair[i] + text2pair[i + 1]\n",
        "\n",
        "    # increase pair sequences\n",
        "    if pair in token_pairs:\n",
        "      token_pairs[pair] += 1\n",
        "    else:\n",
        "      token_pairs[pair] = 1\n",
        "  return token_pairs\n",
        "# >---------------------------------------------\n",
        "\n",
        "# >---------------------------------------------\n",
        "def update_vocab(token_pairs, vocab):\n",
        "\n",
        "  # find the most frequent pair\n",
        "  idx = np.argmax(list(token_pairs.values())) # corrected line\n",
        "  newtok = list(token_pairs.keys())[idx]\n",
        "\n",
        "  # update the vocab\n",
        "  vocab[newtok] = max(vocab.values()) + 1\n",
        "  return vocab, newtok\n",
        "# >---------------------------------------------\n",
        "\n",
        "# >---------------------------------------------\n",
        "def generate_new_token_sequence(prevtext, newtoken):\n",
        "  # initialize a new text list\n",
        "  newtext = []\n",
        "\n",
        "  # loop through the list\n",
        "  i = 0\n",
        "  while (i < len(prevtext) - 1):\n",
        "    if (prevtext[i] + prevtext[i + 1]) == newtoken:\n",
        "      newtext.append(newtoken)\n",
        "      i += 2\n",
        "    #not a pair\n",
        "    else:\n",
        "      newtext.append(prevtext[i])\n",
        "      i += 1\n",
        "  # Add the last character if the loop finished on the second to last character\n",
        "  if i == len(prevtext) - 1:\n",
        "      newtext.append(prevtext[i])\n",
        "  return newtext\n",
        "# >---------------------------------------------"
      ],
      "metadata": {
        "id": "z_C_2mCqbDtE"
      },
      "execution_count": 45,
      "outputs": []
    },
    {
      "cell_type": "code",
      "source": [
        "# re-init the vocab\n",
        "vocab = { word: i for i, word in enumerate(chars)}\n",
        "print(f'Vocab has {len(vocab)} tokens.')"
      ],
      "metadata": {
        "colab": {
          "base_uri": "https://localhost:8080/"
        },
        "id": "ieFRlAgDd1mI",
        "outputId": "270f45ee-287b-4dbe-b90c-1b8bdcdbbf7f"
      },
      "execution_count": 46,
      "outputs": [
        {
          "output_type": "stream",
          "name": "stdout",
          "text": [
            "Vocab has 16 tokens.\n"
          ]
        }
      ]
    },
    {
      "cell_type": "code",
      "source": [
        "## do one iteration\n",
        "\n",
        "# find and count pairs\n",
        "pairs = get_pair_stats(origtext)\n",
        "\n",
        "# update the dictionary\n",
        "vocab,newtoken = update_vocab(pairs, vocab)\n",
        "\n",
        "# get a list of new tokens\n",
        "updated_text = generate_new_token_sequence(origtext, newtoken)\n",
        "print(f'Vocab has {len(vocab)} tokens.')"
      ],
      "metadata": {
        "colab": {
          "base_uri": "https://localhost:8080/"
        },
        "id": "isI88U7ueG1c",
        "outputId": "51e99557-698f-44f3-c92d-48150af12fa3"
      },
      "execution_count": 47,
      "outputs": [
        {
          "output_type": "stream",
          "name": "stdout",
          "text": [
            "Vocab has 17 tokens.\n"
          ]
        }
      ]
    },
    {
      "cell_type": "code",
      "source": [
        "## do second iteration\n",
        "pairs = get_pair_stats(updated_text)\n",
        "\n",
        "# update the dictionary\n",
        "vocab, newtoken = update_vocab(pairs, vocab)\n",
        "\n",
        "# get a list of new tokens\n",
        "updated_text = generate_new_token_sequence(updated_text, newtoken)\n",
        "print(f'Vocab has {len(vocab)} tokens.')"
      ],
      "metadata": {
        "colab": {
          "base_uri": "https://localhost:8080/"
        },
        "id": "zwBCevmxfV9D",
        "outputId": "566523cd-8ff3-4f20-f006-518d0c28feed"
      },
      "execution_count": 48,
      "outputs": [
        {
          "output_type": "stream",
          "name": "stdout",
          "text": [
            "Vocab has 18 tokens.\n"
          ]
        }
      ]
    },
    {
      "cell_type": "code",
      "source": [
        "vocab"
      ],
      "metadata": {
        "colab": {
          "base_uri": "https://localhost:8080/"
        },
        "id": "pMLFBjHqfr2M",
        "outputId": "e86351b7-bbcb-4f41-fce2-6bbaeb9584e0"
      },
      "execution_count": 49,
      "outputs": [
        {
          "output_type": "execute_result",
          "data": {
            "text/plain": [
              "{' ': 0,\n",
              " 'a': 1,\n",
              " 'e': 2,\n",
              " 'g': 3,\n",
              " 'h': 4,\n",
              " 'i': 5,\n",
              " 'k': 6,\n",
              " 'l': 7,\n",
              " 'n': 8,\n",
              " 'o': 9,\n",
              " 'r': 10,\n",
              " 's': 11,\n",
              " 't': 12,\n",
              " 'u': 13,\n",
              " 'v': 14,\n",
              " 'y': 15,\n",
              " ' h': 16,\n",
              " ' l': 17}"
            ]
          },
          "metadata": {},
          "execution_count": 49
        }
      ]
    }
  ]
}