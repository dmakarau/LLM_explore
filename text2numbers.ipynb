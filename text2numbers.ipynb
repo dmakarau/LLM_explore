{
  "nbformat": 4,
  "nbformat_minor": 0,
  "metadata": {
    "colab": {
      "provenance": [],
      "authorship_tag": "ABX9TyNOcxVLobUIHBSz0k0OEOhN"
    },
    "kernelspec": {
      "name": "python3",
      "display_name": "Python 3"
    },
    "language_info": {
      "name": "python"
    }
  },
  "cells": [
    {
      "cell_type": "markdown",
      "source": [
        "Challenge 1 from the course"
      ],
      "metadata": {
        "id": "wRud_Fkwg9GP"
      }
    },
    {
      "cell_type": "code",
      "source": [
        "# list of sentences\n",
        "text = [ 'All that we are is the result of what we have thought',\n",
        "         'To be or not to be that is the question',\n",
        "         'Be yourself everyone else is already taken' ]"
      ],
      "metadata": {
        "id": "m845ir4cg_PB"
      },
      "execution_count": null,
      "outputs": []
    },
    {
      "cell_type": "code",
      "source": [
        "# create a vocab of unique words\n",
        "allwords\n",
        "vocab"
      ],
      "metadata": {
        "id": "xKWhEnYqhQRO"
      },
      "execution_count": null,
      "outputs": []
    },
    {
      "cell_type": "code",
      "source": [
        "# create an enconder and decoder disctionaries\n",
        "word2idx =\n",
        "idx2word =\n",
        "word2idx"
      ],
      "metadata": {
        "id": "_PMATTIShXQM"
      },
      "execution_count": null,
      "outputs": []
    },
    {
      "cell_type": "code",
      "source": [],
      "metadata": {
        "id": "3BQhDt8mhWST"
      },
      "execution_count": null,
      "outputs": []
    }
  ]
}