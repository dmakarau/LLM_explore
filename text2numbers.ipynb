{
  "nbformat": 4,
  "nbformat_minor": 0,
  "metadata": {
    "colab": {
      "provenance": [],
      "authorship_tag": "ABX9TyPg8+iutSkSbCRg2Wk/UNw2"
    },
    "kernelspec": {
      "name": "python3",
      "display_name": "Python 3"
    },
    "language_info": {
      "name": "python"
    }
  },
  "cells": [
    {
      "cell_type": "markdown",
      "source": [
        "**Create and visualize tokens**"
      ],
      "metadata": {
        "id": "wRud_Fkwg9GP"
      }
    },
    {
      "cell_type": "code",
      "source": [
        "import re"
      ],
      "metadata": {
        "id": "MdxDgBGZPFo9"
      },
      "execution_count": null,
      "outputs": []
    },
    {
      "cell_type": "code",
      "source": [
        "# list of sentences\n",
        "text = [ 'All that we are is the result of what we have thought',\n",
        "         'To be or not to be that is the question',\n",
        "         'Be yourself everyone else is already taken' ]"
      ],
      "metadata": {
        "id": "m845ir4cg_PB"
      },
      "execution_count": null,
      "outputs": []
    },
    {
      "cell_type": "code",
      "source": [
        "# create a vocab of unique words\n",
        "allwords = []\n",
        "for phrase in text:\n",
        "  words = re.split(r'\\s', phrase.lower())\n",
        "  allwords.extend(words)\n",
        "vocab = sorted(set(allwords))"
      ],
      "metadata": {
        "id": "xKWhEnYqhQRO"
      },
      "execution_count": null,
      "outputs": []
    },
    {
      "cell_type": "code",
      "source": [
        "# create an enconder and decoder disctionaries\n",
        "word2idx = {}\n",
        "for i, word in enumerate(vocab):\n",
        "  word2idx[word] = i\n",
        "idx2word = {}\n",
        "for i, word in enumerate(vocab):\n",
        "  idx2word[i] = word\n",
        "\n",
        "word2idx"
      ],
      "metadata": {
        "id": "_PMATTIShXQM"
      },
      "execution_count": null,
      "outputs": []
    }
  ]
}