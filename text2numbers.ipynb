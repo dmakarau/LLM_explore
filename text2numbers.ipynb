{
  "cells": [
    {
      "cell_type": "markdown",
      "metadata": {
        "id": "view-in-github",
        "colab_type": "text"
      },
      "source": [
        "<a href=\"https://colab.research.google.com/github/dmakarau/LLM_explore/blob/main/text2numbers.ipynb\" target=\"_parent\"><img src=\"https://colab.research.google.com/assets/colab-badge.svg\" alt=\"Open In Colab\"/></a>"
      ]
    },
    {
      "cell_type": "markdown",
      "metadata": {
        "id": "wRud_Fkwg9GP"
      },
      "source": [
        "**Create and visualize tokens**"
      ]
    },
    {
      "cell_type": "code",
      "execution_count": null,
      "metadata": {
        "id": "MdxDgBGZPFo9"
      },
      "outputs": [],
      "source": [
        "import re\n",
        "import numpy as np\n",
        "import matplotlib.pyplot as plt"
      ]
    },
    {
      "cell_type": "code",
      "execution_count": null,
      "metadata": {
        "id": "2mNTdY02Gzk3"
      },
      "outputs": [],
      "source": [
        "import matplotlib_inline.backend_inline\n",
        "matplotlib_inline.backend_inline.set_matplotlib_formats('svg')"
      ]
    },
    {
      "cell_type": "code",
      "execution_count": null,
      "metadata": {
        "id": "m845ir4cg_PB"
      },
      "outputs": [],
      "source": [
        "# list of sentences\n",
        "text = [ 'All that we are is the result of what we have thought',\n",
        "         'To be or not to be that is the question',\n",
        "         'Be yourself everyone else is already taken' ]"
      ]
    },
    {
      "cell_type": "code",
      "execution_count": null,
      "metadata": {
        "id": "xKWhEnYqhQRO"
      },
      "outputs": [],
      "source": [
        "# create a vocab of unique words\n",
        "allwords = []\n",
        "for phrase in text:\n",
        "  words = re.split(r'\\s', phrase.lower())\n",
        "  allwords.extend(words)\n",
        "vocab = sorted(set(allwords))\n",
        "vocab"
      ]
    },
    {
      "cell_type": "code",
      "execution_count": null,
      "metadata": {
        "id": "_PMATTIShXQM"
      },
      "outputs": [],
      "source": [
        "# create an enconder and decoder disctionaries\n",
        "word2idx = {}\n",
        "for i, word in enumerate(vocab):\n",
        "  word2idx[word] = i\n",
        "idx2word = {}\n",
        "for i, word in enumerate(vocab):\n",
        "  idx2word[i] = word\n",
        "\n",
        "word2idx"
      ]
    },
    {
      "cell_type": "code",
      "execution_count": null,
      "metadata": {
        "id": "JLoGkUZLSRWW"
      },
      "outputs": [],
      "source": [
        "# create the encode function that takes text input and gives a list of integers as tokens\n",
        "def encode(phrase):\n",
        "  words = re.split(r'\\s', phrase.lower())\n",
        "  return [ word2idx[word] for word in words ]\n"
      ]
    },
    {
      "cell_type": "code",
      "execution_count": null,
      "metadata": {
        "id": "0a4Ell2sZv9_"
      },
      "outputs": [],
      "source": [
        "tokens = encode('we already are the result of what everyone else already thought')\n",
        "print(tokens)"
      ]
    },
    {
      "cell_type": "code",
      "execution_count": null,
      "metadata": {
        "id": "x05E9ytZWz5n"
      },
      "outputs": [],
      "source": [
        "# create the decode function that takes list of tokens as integers and gives the text\n",
        "def decode(tokens_list):\n",
        "  return ' '.join(idx2word[i] for i in tokens_list)\n"
      ]
    },
    {
      "cell_type": "code",
      "execution_count": null,
      "metadata": {
        "id": "5ifdr8TNZ1jI"
      },
      "outputs": [],
      "source": [
        "phrase = decode(tokens)\n",
        "print(phrase)"
      ]
    },
    {
      "cell_type": "code",
      "execution_count": null,
      "metadata": {
        "id": "rnaLaQ6OaCBW"
      },
      "outputs": [],
      "source": [
        "print(vocab) # Just a reminder what words in the vocabulary do we have"
      ]
    },
    {
      "cell_type": "code",
      "execution_count": null,
      "metadata": {
        "id": "Vf-6RZPPaD2n"
      },
      "outputs": [],
      "source": [
        "# create a phrase, using vocab\n",
        "another_phrase = 'we have thought what is the question'\n",
        "# encode text to tokens\n",
        "tokens = encode(another_phrase)\n",
        "print(tokens)\n",
        "\n",
        "# decode tokens to text\n",
        "phrase_decoded = decode(tokens)\n",
        "print(phrase_decoded)"
      ]
    },
    {
      "cell_type": "code",
      "execution_count": null,
      "metadata": {
        "id": "70hmx4SZx1g4"
      },
      "outputs": [],
      "source": []
    },
    {
      "cell_type": "markdown",
      "metadata": {
        "id": "AMp6l0ppa9ts"
      },
      "source": [
        "***Visualize the tokenized integers***"
      ]
    },
    {
      "cell_type": "code",
      "execution_count": null,
      "metadata": {
        "id": "O4MyitqRct2a"
      },
      "outputs": [],
      "source": [
        "# get all the text and tokens\n",
        "alltext = ' '.join(text)\n",
        "tokens = encode(alltext)\n",
        "print(tokens)\n",
        "\n",
        "# create a figure\n",
        "_,ax = plt.subplots(1, figsize=(12,5))\n",
        "\n",
        "# plot the tokens\n",
        "ax.plot(tokens, 'ks', markersize = 12, markerfacecolor = [.7, .7, .9])\n",
        "ax.set(xlabel='Word index',yticks=range(len(vocab)))\n",
        "ax.grid(linestyle='--', axis='y')\n",
        "\n",
        "# # invisible axis for right-hand-side labels\n",
        "ax2 = ax.twinx()\n",
        "ax2.plot(tokens, alpha=0)\n",
        "ax2.set(yticks = range(len(vocab)), yticklabels = vocab)\n",
        "\n",
        "plt.show()\n"
      ]
    },
    {
      "cell_type": "markdown",
      "metadata": {
        "id": "edHYFTwf1h0p"
      },
      "source": [
        "***Explore context surrounding target tokens***"
      ]
    },
    {
      "cell_type": "code",
      "execution_count": null,
      "metadata": {
        "id": "yK0pl1wx1tJP"
      },
      "outputs": [],
      "source": [
        "indexes = []\n",
        "for index, word in enumerate(allwords):\n",
        "  if word == 'to':\n",
        "    indexes.append(index)\n",
        "print(f' \"to\" appears at indices {indexes}')"
      ]
    },
    {
      "cell_type": "code",
      "execution_count": null,
      "metadata": {
        "id": "p7Ewkx0W7ISA"
      },
      "outputs": [],
      "source": [
        "for t in indexes:\n",
        "  print(allwords[t - 1: t + 2])"
      ]
    },
    {
      "cell_type": "code",
      "source": [
        "print(allwords)"
      ],
      "metadata": {
        "id": "670VVBfAs0Su"
      },
      "execution_count": null,
      "outputs": []
    },
    {
      "cell_type": "markdown",
      "source": [],
      "metadata": {
        "id": "kIJxdGsLs3oy"
      }
    },
    {
      "cell_type": "code",
      "source": [
        "print(vocab)"
      ],
      "metadata": {
        "id": "qidR_1oDs5qt"
      },
      "execution_count": null,
      "outputs": []
    },
    {
      "cell_type": "code",
      "execution_count": null,
      "metadata": {
        "id": "Wqe0ZV80c5uE"
      },
      "outputs": [],
      "source": [
        "word_matrix = np.zeros((len(allwords), len(vocab)), dtype=int)\n",
        "for i, word in enumerate(allwords):\n",
        "  index = word2idx[word]\n",
        "  word_matrix[i, index] = 1\n",
        "print(word_matrix)"
      ]
    },
    {
      "cell_type": "code",
      "source": [
        "# create a figure and axes\n",
        "fig, ax = plt.subplots(1, figsize=(12,5))\n",
        "\n",
        "# plot the word matrix\n",
        "ax.imshow(1-word_matrix.T, cmap='gray', origin='lower', aspect='auto')\n",
        "\n",
        "# set labels and ticks\n",
        "ax.set(xlabel='Word index', yticks=range(len(vocab)))\n",
        "ax.grid(linestyle='--', axis='y')\n",
        "\n",
        "plt.show()"
      ],
      "metadata": {
        "id": "I_MnVzen2BYn"
      },
      "execution_count": null,
      "outputs": []
    }
  ],
  "metadata": {
    "colab": {
      "provenance": [],
      "include_colab_link": true
    },
    "kernelspec": {
      "display_name": "Python 3",
      "name": "python3"
    },
    "language_info": {
      "name": "python"
    }
  },
  "nbformat": 4,
  "nbformat_minor": 0
}